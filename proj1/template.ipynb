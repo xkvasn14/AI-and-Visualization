{
 "cells": [
  {
   "cell_type": "markdown",
   "metadata": {},
   "source": [
    "# Exploration of Projection Spaces"
   ]
  },
  {
   "cell_type": "code",
   "execution_count": 1,
   "metadata": {},
   "outputs": [],
   "source": [
    "# Feel free to add dependencies, but make sure that they are included in environment.yml\n",
    "\n",
    "#disable some annoying warnings\n",
    "import warnings\n",
    "warnings.filterwarnings('ignore', category=FutureWarning)\n",
    "\n",
    "#plots the figures in place instead of a new window\n",
    "%matplotlib inline\n",
    "\n",
    "import numpy as np\n",
    "import pandas as pd\n",
    "\n",
    "import matplotlib.pyplot as plt\n",
    "import altair as alt\n",
    "from altair import datum\n",
    "alt.data_transformers.disable_max_rows()\n",
    "\n",
    "from sklearn import manifold\n",
    "from openTSNE import TSNE\n",
    "from openTSNE.callbacks import ErrorLogger\n",
    "from umap import UMAP"
   ]
  },
  {
   "cell_type": "markdown",
   "metadata": {},
   "source": [
    "## Data\n",
    "To be able to explore paths in a projected space, you need to pick a problem/algorithm/model that consists of multiple states that change iteratively.\n",
    "\n",
    "<details>\n",
    "    <summary><a>Click to see an Example</a></summary>\n",
    "\n",
    "    \n",
    "An example is the solving of a Rubik's Cube. After each rotation the state of the cube changes. This results in a path from the initial state, through the individual rotations, to the solved cube.\n",
    "By using projection, we can examine the individual states and paths in the two-dimensional space.\n",
    "Depending on the initial state and the solution strategy the paths will differ or resemble each other.\n",
    "    \n",
    "This is an example of solving 10 randomly scrambled Rubik's Cubes with two different strategies, the Beginner (in green) and the Fridrich Method (in orange):\n",
    "<div>\n",
    "    <img alt=\"Rubiks's Cube Sovling Strategies\" src=\"rubiks.png\" width=\"600\"/>\n",
    "</div>\n",
    "You can see that although each cube is scrambled differently in the beginning, both strategies converge to the same paths after a few steps.\n",
    "You can also notice that the Beginner's method takes some additional paths that are not necessary with the Fridrich method.\n",
    "</details>\n",
    "\n",
    "### Read and Prepare Data\n",
    "Read in your data from a file or create your own data.\n",
    "\n",
    "Document any data processing steps."
   ]
  },
  {
   "cell_type": "code",
   "execution_count": null,
   "metadata": {},
   "outputs": [],
   "source": [
    "# TODO"
   ]
  },
  {
   "cell_type": "markdown",
   "metadata": {},
   "source": [
    "### Comments\n",
    "- Did you transform, clean, or extend the data?  How/Why?\n",
    "\n",
    "_TODO_"
   ]
  },
  {
   "cell_type": "markdown",
   "metadata": {},
   "source": [
    "## Projection\n",
    "Project your data into a 2D space.\n",
    "Try multiple (3+) projection methods (e.g., t-SNE, UMAP, MDS, PCA, ICA, other methods) with different settings and compare them.\n",
    "\n",
    "Make sure that all additional dependencies are included when submitting."
   ]
  },
  {
   "cell_type": "code",
   "execution_count": null,
   "metadata": {},
   "outputs": [],
   "source": [
    "# TODO"
   ]
  },
  {
   "cell_type": "markdown",
   "metadata": {},
   "source": [
    "### Comments\n",
    "- Which features did you use? Why?\n",
    "- Which projection methods did you use? Why?\n",
    "- Why did you choose these hyperparameters?\n",
    "- Are there patterns in the global _and_ the local structure?\n",
    "\n",
    "_TODO_"
   ]
  },
  {
   "cell_type": "markdown",
   "metadata": {},
   "source": [
    "### Link States\n",
    "Connect the states that belong together.\n",
    "\n",
    "The states of a single solution should be connected to see the path from the start to the end state.\n",
    "How the points are connected is up to you, for example, with straight lines or splines."
   ]
  },
  {
   "cell_type": "code",
   "execution_count": null,
   "metadata": {},
   "outputs": [],
   "source": [
    "# TODO"
   ]
  },
  {
   "cell_type": "markdown",
   "metadata": {},
   "source": [
    "### Meta Data Encoding \n",
    "Encode addtional features in the visualization.\n",
    "\n",
    "Use features of the source data and include them in the projection, e.g., by using color, opacity, different shapes, or line styles, etc."
   ]
  },
  {
   "cell_type": "code",
   "execution_count": null,
   "metadata": {},
   "outputs": [],
   "source": [
    "# TODO"
   ]
  },
  {
   "cell_type": "markdown",
   "metadata": {},
   "source": [
    "### Comments\n",
    "- Which features did you use? Why?\n",
    "- How are the features encoded?\n",
    "\n",
    "_TODO_"
   ]
  },
  {
   "cell_type": "markdown",
   "metadata": {
    "jp-MarkdownHeadingCollapsed": true,
    "tags": []
   },
   "source": [
    "## Optional\n",
    "<details>\n",
    "    <summary><a>Projection Space Explorer (click to reveal)</a></summary>\n",
    "\n",
    "    \n",
    "<h2>Projection Space Explorer</h2>\n",
    "\n",
    "The <a href=\"https://jku-vds-lab.at/pse/\">Projection Space Explorer</a> is a web application to plot and connect two dimensional points. \n",
    "Metadata of the data points can be used to encode additonal information into the projection, e.g., by using different shapes or colors.\n",
    "    \n",
    "Further Information:\n",
    "<ul>\n",
    "    <li>Paper: <a href=\"https://jku-vds-lab.at/publications/2020_tiis_pathexplorer/\">https://jku-vds-lab.at/publications/2020_tiis_pathexplorer/</a>\n",
    "    <li>Repo: <a href=\"https://github.com/jku-vds-lab/projection-space-explorer/\">https://github.com/jku-vds-lab/projection-space-explorer/</a>\n",
    "    <li>Application Overview: <a href=\"https://jku-vds-lab.at/pse/\">https://jku-vds-lab.at/pse/</a>\n",
    "</ul>\n",
    "\n",
    "<h3>Data Format</h3>\n",
    "How to format the data can be found in the <a href=\"https://github.com/jku-vds-lab/projection-space-explorer/#data-format\">Projection Space Explorer's README</a>.\n",
    "\n",
    "Example data with three lines, with two colors (algo) and additional mark encoding (cp):\n",
    "\n",
    "<table>\n",
    "<thead>\n",
    "  <tr>\n",
    "    <th>x</th>\n",
    "    <th>y</th>\n",
    "    <th>line</th>\n",
    "    <th>cp</th>\n",
    "    <th>algo</th>\n",
    "  </tr>\n",
    "</thead>\n",
    "<tbody>\n",
    "  <tr>\n",
    "    <td>0.0</td>\n",
    "    <td>0</td>\n",
    "    <td>0</td>\n",
    "    <td>start</td>\n",
    "    <td>1</td>\n",
    "  </tr>\n",
    "  <tr>\n",
    "    <td>2.0</td>\n",
    "    <td>1</td>\n",
    "    <td>0</td>\n",
    "    <td>state</td>\n",
    "    <td>1</td>\n",
    "  </tr>\n",
    "  <tr>\n",
    "    <td>4.0</td>\n",
    "    <td>4</td>\n",
    "    <td>0</td>\n",
    "    <td>state</td>\n",
    "    <td>1</td>\n",
    "  </tr>\n",
    "  <tr>\n",
    "    <td>6.0</td>\n",
    "    <td>1</td>\n",
    "    <td>0</td>\n",
    "    <td>state</td>\n",
    "    <td>1</td>\n",
    "  </tr>\n",
    "  <tr>\n",
    "    <td>8.0</td>\n",
    "    <td>0</td>\n",
    "    <td>0</td>\n",
    "    <td>state</td>\n",
    "    <td>1</td>\n",
    "  </tr>\n",
    "  <tr>\n",
    "    <td>12.0</td>\n",
    "    <td>0</td>\n",
    "    <td>0</td>\n",
    "    <td>end</td>\n",
    "    <td>1</td>\n",
    "  </tr>\n",
    "  <tr>\n",
    "    <td>-1.0</td>\n",
    "    <td>10</td>\n",
    "    <td>1</td>\n",
    "    <td>start</td>\n",
    "    <td>2</td>\n",
    "  </tr>\n",
    "  <tr>\n",
    "    <td>0.5</td>\n",
    "    <td>5</td>\n",
    "    <td>1</td>\n",
    "    <td>state</td>\n",
    "    <td>2</td>\n",
    "  </tr>\n",
    "  <tr>\n",
    "    <td>2.0</td>\n",
    "    <td>3</td>\n",
    "    <td>1</td>\n",
    "    <td>state</td>\n",
    "    <td>2</td>\n",
    "  </tr>\n",
    "  <tr>\n",
    "    <td>3.5</td>\n",
    "    <td>0</td>\n",
    "    <td>1</td>\n",
    "    <td>state</td>\n",
    "    <td>2</td>\n",
    "  </tr>\n",
    "  <tr>\n",
    "    <td>5.0</td>\n",
    "    <td>3</td>\n",
    "    <td>1</td>\n",
    "    <td>state</td>\n",
    "    <td>2</td>\n",
    "  </tr>\n",
    "  <tr>\n",
    "    <td>6.5</td>\n",
    "    <td>5</td>\n",
    "    <td>1</td>\n",
    "    <td>state</td>\n",
    "    <td>2</td>\n",
    "  </tr>\n",
    "  <tr>\n",
    "    <td>8.0</td>\n",
    "    <td>10</td>\n",
    "    <td>1</td>\n",
    "    <td>end</td>\n",
    "    <td>2</td>\n",
    "  </tr>\n",
    "  <tr>\n",
    "    <td>3.0</td>\n",
    "    <td>6</td>\n",
    "    <td>2</td>\n",
    "    <td>start</td>\n",
    "    <td>2</td>\n",
    "  </tr>\n",
    "  <tr>\n",
    "    <td>2.0</td>\n",
    "    <td>7</td>\n",
    "    <td>2</td>\n",
    "    <td>end</td>\n",
    "    <td>2</td>\n",
    "  </tr>\n",
    "</tbody>\n",
    "</table>\n",
    "\n",
    "\n",
    "\n",
    "Save the dataset to CSV, e.g. using pandas: <tt>df.to_csv('data_path_explorer.csv', encoding='utf-8', index=False)</tt>  \n",
    "    and upload it in the Projection Space Explorer by clicking on `OPEN FILE` in the top left corner.\n",
    "    \n",
    "ℹ You can also include your high dimensionmal data and use it to adapt the visualization.\n",
    "    \n",
    "</details>\n"
   ]
  },
  {
   "cell_type": "markdown",
   "metadata": {},
   "source": [
    "## Results\n",
    "You may add additional screenshots of the Projection Space Explorer."
   ]
  },
  {
   "cell_type": "code",
   "execution_count": null,
   "metadata": {},
   "outputs": [],
   "source": [
    "# TODO"
   ]
  },
  {
   "cell_type": "markdown",
   "metadata": {},
   "source": [
    "### Interpretion\n",
    "- What can be seen in the projection(s)?\n",
    "- Was it what you expected? If not what did you expect?\n",
    "- Can you confirm prior hypotheses from the projection?\n",
    "- Did you get any unexpected insights?\n",
    "\n",
    "_TODO_"
   ]
  },
  {
   "cell_type": "markdown",
   "metadata": {},
   "source": [
    "## Submission\n",
    "When you’ve finished working on this assignment please download this notebook as HTML and add it to your repository in addition to the notebook file."
   ]
  }
 ],
 "metadata": {
  "kernelspec": {
   "display_name": "Python 3 (ipykernel)",
   "language": "python",
   "name": "python3"
  },
  "language_info": {
   "codemirror_mode": {
    "name": "ipython",
    "version": 3
   },
   "file_extension": ".py",
   "mimetype": "text/x-python",
   "name": "python",
   "nbconvert_exporter": "python",
   "pygments_lexer": "ipython3",
   "version": "3.9.7"
  }
 },
 "nbformat": 4,
 "nbformat_minor": 4
}
